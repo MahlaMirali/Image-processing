{
  "nbformat": 4,
  "nbformat_minor": 0,
  "metadata": {
    "colab": {
      "name": "Image processing.ipynb",
      "provenance": [],
      "collapsed_sections": []
    },
    "kernelspec": {
      "display_name": "Python 3",
      "name": "python3"
    },
    "language_info": {
      "name": "python"
    }
  },
  "cells": [
    {
      "cell_type": "markdown",
      "metadata": {
        "id": "I1ZV-Ps4vzjv"
      },
      "source": [
        "# Lib"
      ]
    },
    {
      "cell_type": "code",
      "metadata": {
        "id": "iX23-TxZqhAO"
      },
      "source": [
        "from google.colab import files\n",
        "import io\n",
        "import pandas as pd\n",
        "from google.colab import drive\n",
        "import numpy as np\n",
        "%matplotlib inline\n",
        "import matplotlib.pyplot as plt\n",
        "from google.colab import drive\n",
        "import seaborn as sns\n",
        "from numpy.polynomial.polynomial import polyfit\n",
        "from mpl_toolkits import mplot3d\n",
        "from scipy.stats import boxcox\n",
        "from matplotlib import pyplot\n",
        "from numpy import exp\n",
        "from functools import reduce\n",
        "import time\n",
        "from datetime import datetime, timedelta\n",
        "import dateutil.parser\n",
        "from dateutil.parser import parse\n",
        "import calendar\n",
        "from PIL import Image\n",
        "from scipy.stats import pearsonr\n",
        "from scipy.stats import f_oneway\n",
        "import glob\n",
        "\n",
        "from google.colab import files\n",
        "import io\n",
        "import pandas as pd\n",
        "import matplotlib.pyplot as plt\n",
        "from matplotlib import pyplot\n",
        "import seaborn as sns\n",
        "import numpy as np\n",
        "from scipy import sparse\n",
        "from collections import Counter\n",
        "import itertools\n",
        "from random import sample\n",
        "import scipy\n",
        "from scipy import stats\n",
        "from scipy.stats import chi2_contingency\n",
        "from pprint import pprint\n",
        "import warnings\n",
        "\n",
        "#skLearn\n",
        "from sklearn.metrics import r2_score\n",
        "from sklearn.preprocessing import MinMaxScaler\n",
        "from sklearn.linear_model import LinearRegression\n",
        "from sklearn.ensemble import RandomForestRegressor\n",
        "from sklearn.svm import SVR\n",
        "from sklearn.pipeline import make_pipeline\n",
        "from sklearn.preprocessing import StandardScaler\n",
        "from sklearn.neighbors import KNeighborsRegressor\n",
        "\n",
        "# tf/Keras\n",
        "import tensorflow\n",
        "import keras\n",
        "from keras.models import Sequential\n",
        "from keras.layers import Dense, Dropout\n",
        "from keras.preprocessing import sequence\n",
        "from sklearn.metrics import mean_squared_error as mse\n",
        "from keras.callbacks import EarlyStopping\n",
        "# from keras.optimizers import SGD\n",
        "# from keras.optimizers import Adam"
      ],
      "execution_count": null,
      "outputs": []
    },
    {
      "cell_type": "code",
      "metadata": {
        "id": "icNmk2MXLY9Z"
      },
      "source": [
        "!pip install geopandas\n",
        "!pip install descartes\n",
        "!pip install rasterio\n",
        "!pip install georaster\n",
        "!pip install Bottleneck\n",
        "!pip install geemap\n",
        "!pip install richdem\n",
        "import richdem as rd\n",
        "import bottleneck as bn\n",
        "import georaster\n",
        "import geopandas as gpd\n",
        "import descartes\n",
        "import rasterio\n",
        "from rasterio.plot import show\n",
        "import fiona\n",
        "from rasterio.mask import mask\n",
        "import google.colab\n",
        "import geemap.eefolium as geemap\n",
        "import geemap\n",
        "import ee\n",
        "from osgeo import gdal"
      ],
      "execution_count": null,
      "outputs": []
    },
    {
      "cell_type": "markdown",
      "metadata": {
        "id": "BQbZhWx0v8Ww"
      },
      "source": [
        "# Import files"
      ]
    },
    {
      "cell_type": "markdown",
      "metadata": {
        "id": "PGJghYtjweSf"
      },
      "source": [
        "# EDA"
      ]
    },
    {
      "cell_type": "code",
      "metadata": {
        "colab": {
          "base_uri": "https://localhost:8080/",
          "height": 130
        },
        "id": "5iUAtFkqBBUh",
        "outputId": "2793a177-0206-46da-b4db-c580a08ce93c"
      },
      "source": [
        "df1 = pd.read_csv('Moran_Data.csv', encoding='latin_1') # tn & soc were calculated not measured\n",
        "df2 = pd.read_csv('Predictive_Model_Building_Data.csv', encoding='latin_1')\n",
        "df1.shape # (370, 12)\n",
        "df2.shape # (206, 262)\n",
        "df3 = df2[['sample', 'horizon', 'order', 'subgroup', 'tn', 'toc']]\n",
        "df = df1.merge(df3, on='sample', how = 'inner')\n",
        "df = df.loc[df['depth']<0.16] # to get only horizon A\n",
        "df = df[['location', 'sample', 'soil', 'site', 'easting', 'northing',\n",
        "       'depth', 'horizon_y', 'order_y', 'subgroup_y', 'tn', 'toc']]\n",
        "df = df.rename(columns={'horizon_y':'horizon', 'order_y':'order', 'subgroup_y':'subgroup', 'toc':'soc'})\n",
        "df = df.loc[(df['order']=='LUV') | (df['order']=='CHER')] # these orders are for croplands\n",
        "# all sites in SK ('kinistino', 'meskanaw', 'strong_pine', 'gronlid') except 'cooking' which is in AB\n",
        "# for cooking site, easting and northing are vice versa; as a result I removed the cooking lines (i.e., 4 rows)\n",
        "df = df.loc[df['site']!='cooking']\n",
        "df = df.assign(zone=12)\n",
        "df.reset_index(inplace=True, drop=True)\n",
        "print(df.shape) \n",
        "df.head(2)"
      ],
      "execution_count": null,
      "outputs": [
        {
          "output_type": "stream",
          "name": "stdout",
          "text": [
            "(84, 13)\n"
          ]
        },
        {
          "output_type": "execute_result",
          "data": {
            "text/html": [
              "<div>\n",
              "<style scoped>\n",
              "    .dataframe tbody tr th:only-of-type {\n",
              "        vertical-align: middle;\n",
              "    }\n",
              "\n",
              "    .dataframe tbody tr th {\n",
              "        vertical-align: top;\n",
              "    }\n",
              "\n",
              "    .dataframe thead th {\n",
              "        text-align: right;\n",
              "    }\n",
              "</style>\n",
              "<table border=\"1\" class=\"dataframe\">\n",
              "  <thead>\n",
              "    <tr style=\"text-align: right;\">\n",
              "      <th></th>\n",
              "      <th>location</th>\n",
              "      <th>sample</th>\n",
              "      <th>soil</th>\n",
              "      <th>site</th>\n",
              "      <th>easting</th>\n",
              "      <th>northing</th>\n",
              "      <th>depth</th>\n",
              "      <th>horizon</th>\n",
              "      <th>order</th>\n",
              "      <th>subgroup</th>\n",
              "      <th>tn</th>\n",
              "      <th>soc</th>\n",
              "      <th>zone</th>\n",
              "    </tr>\n",
              "  </thead>\n",
              "  <tbody>\n",
              "    <tr>\n",
              "      <th>0</th>\n",
              "      <td>K01</td>\n",
              "      <td>K01_Ah</td>\n",
              "      <td>A</td>\n",
              "      <td>kinistino</td>\n",
              "      <td>903741.4516</td>\n",
              "      <td>5893967.424</td>\n",
              "      <td>0.1</td>\n",
              "      <td>Ah</td>\n",
              "      <td>CHER</td>\n",
              "      <td>O.BLC</td>\n",
              "      <td>0.29</td>\n",
              "      <td>3.00</td>\n",
              "      <td>12</td>\n",
              "    </tr>\n",
              "    <tr>\n",
              "      <th>1</th>\n",
              "      <td>K02</td>\n",
              "      <td>K02_Ah</td>\n",
              "      <td>A</td>\n",
              "      <td>kinistino</td>\n",
              "      <td>903760.9883</td>\n",
              "      <td>5893971.349</td>\n",
              "      <td>0.1</td>\n",
              "      <td>Ah</td>\n",
              "      <td>CHER</td>\n",
              "      <td>O.BLC</td>\n",
              "      <td>0.37</td>\n",
              "      <td>3.87</td>\n",
              "      <td>12</td>\n",
              "    </tr>\n",
              "  </tbody>\n",
              "</table>\n",
              "</div>"
            ],
            "text/plain": [
              "  location  sample soil       site  ...  subgroup    tn   soc zone\n",
              "0      K01  K01_Ah    A  kinistino  ...     O.BLC  0.29  3.00   12\n",
              "1      K02  K02_Ah    A  kinistino  ...     O.BLC  0.37  3.87   12\n",
              "\n",
              "[2 rows x 13 columns]"
            ]
          },
          "metadata": {},
          "execution_count": 10
        }
      ]
    },
    {
      "cell_type": "code",
      "metadata": {
        "id": "Bt-os72BUcyn"
      },
      "source": [
        "import osr\n",
        "def transform_utm_to_wgs84(easting, northing, zone):\n",
        "    utm_coordinate_system = osr.SpatialReference()\n",
        "    utm_coordinate_system.SetWellKnownGeogCS(\"WGS84\") # Set geographic coordinate system to handle lat/lon\n",
        "    is_northern = northing > 0    \n",
        "    utm_coordinate_system.SetUTM(zone, is_northern)\n",
        "    wgs84_coordinate_system = utm_coordinate_system.CloneGeogCS() # Clone ONLY the geographic coordinate system \n",
        "    # create transform component\n",
        "    utm_to_wgs84_transform = osr.CoordinateTransformation(utm_coordinate_system, wgs84_coordinate_system) # (<from>, <to>)\n",
        "    return utm_to_wgs84_transform.TransformPoint(easting, northing, 0) # returns lon, lat, altitude"
      ],
      "execution_count": null,
      "outputs": []
    },
    {
      "cell_type": "code",
      "metadata": {
        "colab": {
          "base_uri": "https://localhost:8080/",
          "height": 132
        },
        "id": "TgRazayzNRN6",
        "outputId": "e9856869-4f74-496f-bac0-92111bd21cb5"
      },
      "source": [
        "lats, longs = [], []\n",
        "for i in range(len(df)):\n",
        "  lat,lon, _ = transform_utm_to_wgs84(float(df['easting'][i]), float(df['northing'][i]), int(df['zone'][i]))\n",
        "  lats.append(lat)\n",
        "  longs.append(lon)\n",
        "df['lat']  = lats\n",
        "df['long'] = longs\n",
        "df.head(2)"
      ],
      "execution_count": null,
      "outputs": [
        {
          "output_type": "execute_result",
          "data": {
            "text/html": [
              "<div>\n",
              "<style scoped>\n",
              "    .dataframe tbody tr th:only-of-type {\n",
              "        vertical-align: middle;\n",
              "    }\n",
              "\n",
              "    .dataframe tbody tr th {\n",
              "        vertical-align: top;\n",
              "    }\n",
              "\n",
              "    .dataframe thead th {\n",
              "        text-align: right;\n",
              "    }\n",
              "</style>\n",
              "<table border=\"1\" class=\"dataframe\">\n",
              "  <thead>\n",
              "    <tr style=\"text-align: right;\">\n",
              "      <th></th>\n",
              "      <th>location</th>\n",
              "      <th>sample</th>\n",
              "      <th>soil</th>\n",
              "      <th>site</th>\n",
              "      <th>easting</th>\n",
              "      <th>northing</th>\n",
              "      <th>depth</th>\n",
              "      <th>horizon</th>\n",
              "      <th>order</th>\n",
              "      <th>subgroup</th>\n",
              "      <th>tn</th>\n",
              "      <th>soc</th>\n",
              "      <th>zone</th>\n",
              "      <th>lat</th>\n",
              "      <th>long</th>\n",
              "    </tr>\n",
              "  </thead>\n",
              "  <tbody>\n",
              "    <tr>\n",
              "      <th>0</th>\n",
              "      <td>K01</td>\n",
              "      <td>K01_Ah</td>\n",
              "      <td>A</td>\n",
              "      <td>kinistino</td>\n",
              "      <td>903741.4516</td>\n",
              "      <td>5893967.424</td>\n",
              "      <td>0.1</td>\n",
              "      <td>Ah</td>\n",
              "      <td>CHER</td>\n",
              "      <td>O.BLC</td>\n",
              "      <td>0.29</td>\n",
              "      <td>3.00</td>\n",
              "      <td>12</td>\n",
              "      <td>-104.974944</td>\n",
              "      <td>53.042312</td>\n",
              "    </tr>\n",
              "    <tr>\n",
              "      <th>1</th>\n",
              "      <td>K02</td>\n",
              "      <td>K02_Ah</td>\n",
              "      <td>A</td>\n",
              "      <td>kinistino</td>\n",
              "      <td>903760.9883</td>\n",
              "      <td>5893971.349</td>\n",
              "      <td>0.1</td>\n",
              "      <td>Ah</td>\n",
              "      <td>CHER</td>\n",
              "      <td>O.BLC</td>\n",
              "      <td>0.37</td>\n",
              "      <td>3.87</td>\n",
              "      <td>12</td>\n",
              "      <td>-104.974649</td>\n",
              "      <td>53.042332</td>\n",
              "    </tr>\n",
              "  </tbody>\n",
              "</table>\n",
              "</div>"
            ],
            "text/plain": [
              "  location  sample soil       site  ...   soc  zone         lat       long\n",
              "0      K01  K01_Ah    A  kinistino  ...  3.00    12 -104.974944  53.042312\n",
              "1      K02  K02_Ah    A  kinistino  ...  3.87    12 -104.974649  53.042332\n",
              "\n",
              "[2 rows x 15 columns]"
            ]
          },
          "metadata": {},
          "execution_count": 12
        }
      ]
    },
    {
      "cell_type": "markdown",
      "metadata": {
        "id": "m_oQz-orLhe_"
      },
      "source": [
        "# S2"
      ]
    },
    {
      "cell_type": "code",
      "metadata": {
        "colab": {
          "base_uri": "https://localhost:8080/"
        },
        "id": "TlcwObwxLlGA",
        "outputId": "db560821-3eae-4381-879c-57ea5b839617"
      },
      "source": [
        "# Authenticate the Google earth engine with google account\n",
        "ee.Authenticate()\n",
        "ee.Initialize()"
      ],
      "execution_count": null,
      "outputs": [
        {
          "output_type": "stream",
          "name": "stdout",
          "text": [
            "To authorize access needed by Earth Engine, open the following URL in a web browser and follow the instructions. If the web browser does not start automatically, please manually browse the URL below.\n",
            "\n",
            "    https://accounts.google.com/o/oauth2/auth?client_id=517222506229-vsmmajv00ul0bs7p89v5m89qs8eb9359.apps.googleusercontent.com&scope=https%3A%2F%2Fwww.googleapis.com%2Fauth%2Fearthengine+https%3A%2F%2Fwww.googleapis.com%2Fauth%2Fdevstorage.full_control&redirect_uri=urn%3Aietf%3Awg%3Aoauth%3A2.0%3Aoob&response_type=code&code_challenge=49vrzwPmTsLn1vdrNccgOPkK82X5b3iyf5rsUO5jzeM&code_challenge_method=S256\n",
            "\n",
            "The authorization workflow will generate a code, which you should paste in the box below. \n",
            "Enter verification code: 4/1AX4XfWgYncapIrWHHvwtfS08_1EQVQ3Hl9BeO_qzIfi1B-7zEq-x4gGwCls\n",
            "\n",
            "Successfully saved authorization token.\n"
          ]
        }
      ]
    },
    {
      "cell_type": "code",
      "metadata": {
        "id": "pQ_U5pBEb8WY",
        "colab": {
          "base_uri": "https://localhost:8080/",
          "height": 322
        },
        "outputId": "2066b1e2-866a-4e4b-adca-0d131cab2fa3"
      },
      "source": [
        "gdf = gpd.GeoDataFrame(\n",
        "    df, geometry=gpd.points_from_xy(df.long, df.lat))\n",
        "fig, ax = plt.subplots(1,1, sharex=True, sharey=True, figsize=(5,5))\n",
        "g_plot = gdf.plot(ax = ax, column='soc', legend = True)\n",
        "plt.grid();"
      ],
      "execution_count": null,
      "outputs": [
        {
          "output_type": "display_data",
          "data": {
            "image/png": "[encoded data removed]",
            "text/plain": [
              "<Figure size 360x360 with 2 Axes>"
            ]
          },
          "metadata": {
            "needs_background": "light"
          }
        }
      ]
    },
    {
      "cell_type": "code",
      "metadata": {
        "colab": {
          "base_uri": "https://localhost:8080/"
        },
        "id": "B19jGVfWv4_N",
        "outputId": "396280ae-11bb-4431-88f1-c919620014db"
      },
      "source": [
        "index = 5\n",
        "lat, long = df['lat'][index], df['long'][index]\n",
        "date = df.date[index]\n",
        "print('lat: ',lat, '\\nlong: ', long)\n",
        "size =  0.02 #111 km per degree\n",
        "days = 90\n",
        "cords = [[long-1.5*size, lat+size], [long-1.5*size, lat-size], \n",
        "         [long+1.5*size, lat-size], [long+1.5*size, lat+size]]\n",
        "start, end = (date - timedelta(days=days)), (date + timedelta(days=days))\n",
        "aoi = ee.Geometry.Polygon(cords, None, False) #order is longitude then latitude. \n",
        "print(start, date, end)\n",
        "print(cords) # S@ start 23-06-15"
      ],
      "execution_count": null,
      "outputs": [
        {
          "name": "stdout",
          "output_type": "stream",
          "text": [
            "lat:  42.40392563 \n",
            "long:  -85.37921887\n",
            "2021-01-28 00:00:00 2021-04-28 00:00:00 2021-07-27 00:00:00\n",
            "[[-85.40921887, 42.42392563000001], [-85.40921887, 42.38392563], [-85.34921887, 42.38392563], [-85.34921887, 42.42392563000001]]\n"
          ]
        }
      ]
    },
    {
      "cell_type": "code",
      "metadata": {
        "colab": {
          "base_uri": "https://localhost:8080/",
          "height": 621,
          "referenced_widgets": [
            "7b17fde584cd488e9e813f0fb65dd763",
            "74fbeda28038408e880d19e1b95b7d14",
            "6163d99eccc44dc3a33e35ffd2122c5f",
            "36ebb68b9d264da5a2169bb1b561b5a8",
            "0e815e507e01465ba62d6552d920dddf",
            "00dccbec4dee472fa73d03559176d607",
            "0e89c69ea81b4641b6b4e458c13d71e3",
            "e5a2376e4c87435a8bc50794ad17042c",
            "fb190291a48f4ceca16f927c2be022f3",
            "90cf157f5128426ba557269d8cc8d90b",
            "cef500ae71324b0caa22cf2796e646bb",
            "49293fa852e14835b35105b448e1f8af",
            "b7328e2895924651a5041a8fab7a5eeb",
            "0673a73ddd8d40f4be064dc3925239af",
            "1ba1ff84bae34ea69085a235c096323b",
            "58f3738a989641f793fcfb6a05442d34",
            "5ad90d4236bd46ebbb2c549f2152d281",
            "7f29ec42917f4955a3dc119afd0e6cb0",
            "8842f65eb8274f71914f4cff4cbeca53",
            "5a46d48632a14a22bfe1cb54e8eb7e5f",
            "7180f3fc7d184d76a0e87981caf245df",
            "e48bde924ca94710af366d1becc18957",
            "9d2ac518f8dd4c779460ab4aabc74816",
            "1be8f5f6ae204998afa9167ded993f50",
            "8696def82d2c4b0993099237818029c6",
            "6d4745267bad45458d9b4af850265a5c",
            "bc327fa180d740cfbb13e6e518f77508"
          ]
        },
        "id": "asYhkAYaL1VC",
        "outputId": "2b73da31-c720-450d-93f3-3241a4c1a9fe"
      },
      "source": [
        "df = df.sort_values(['lat','long'])\n",
        "point = ee.Geometry.MultiPoint([[x,y] for x,y in zip(df['long'][:10000], df['lat'][:10000])])\n",
        "\n",
        "sentinel2 = ee.ImageCollection(\"COPERNICUS/S2_SR\");\n",
        "image = sentinel2.filterBounds(aoi) \\\n",
        "  .filterDate('2021-04-28', '2021-05-27') \\\n",
        "  .sort('CLOUDY_PIXEL_PERCENTAGE', False) \\\n",
        "  .mosaic() \\\n",
        "  .clip(aoi)\n",
        "\n",
        "ndvi = image.normalizedDifference(['B3', 'B8']);\n",
        "\n",
        "# Palettes for Visualization\n",
        "trueColor_palette = {'bands': ['B4', 'B3', 'B2'], 'min': 0, 'max': 3000};\n",
        "waterPalette = ['green', 'yellow'];\n",
        "swir = {'bands': ['B12'], 'min': 0, 'max': 6000};\n",
        "\n",
        "Map = geemap.Map(zoom= 15)\n",
        "Map.addLayer(ndvi, {'min': -0.45, 'max': 0.4, 'palette': waterPalette}, 'NDVI')\n",
        "Map.addLayer(image, trueColor_palette, 'true color')\n",
        "# Map.addLayer(image, swir, 'swir')\n",
        "Map.addLayer(point,{'color': 'black'}, 'Geometry [black]: point')\n",
        "Map.setCenter(long, lat)\n",
        "Map"
      ],
      "execution_count": null,
      "outputs": [
        {
          "data": {
            "application/vnd.jupyter.widget-view+json": {
              "model_id": "7b17fde584cd488e9e813f0fb65dd763",
              "version_major": 2,
              "version_minor": 0
            },
            "text/plain": [
              "Map(center=[42.39319216, -85.38230309], controls=(WidgetControl(options=['position', 'transparent_bg'], widget…"
            ]
          },
          "metadata": {
            "application/vnd.jupyter.widget-view+json": {
              "colab": {
                "custom_widget_manager": {
                  "url": "https://ssl.gstatic.com/colaboratory-static/widgets/colab-cdn-widget-manager/bf763107cca07459/manager.min.js"
                }
              }
            }
          },
          "output_type": "display_data"
        }
      ]
    },
    {
      "cell_type": "code",
      "metadata": {
        "colab": {
          "base_uri": "https://localhost:8080/",
          "height": 582
        },
        "id": "WPUg4QbUv9NL",
        "outputId": "106ec0eb-4094-4cbd-b323-795605e6fc22"
      },
      "source": [
        "import folium\n",
        "\n",
        "# Define a method for displaying Earth Engine image tiles to folium map.\n",
        "def add_ee_layer(self, ee_image_object, vis_params, name):\n",
        "  map_id_dict = ee.Image(ee_image_object).getMapId(vis_params)\n",
        "  folium.raster_layers.TileLayer(\n",
        "    tiles = map_id_dict['tile_fetcher'].url_format,\n",
        "    attr = 'Map Data &copy; <a href=\"https://earthengine.google.com/\">Google Earth Engine</a>',\n",
        "    name = name,\n",
        "    overlay = True,\n",
        "    control = True\n",
        "  ).add_to(self)\n",
        "\n",
        "# Add EE drawing method to folium.\n",
        "folium.Map.add_ee_layer = add_ee_layer\n",
        "\n",
        "# Set visualization parameters.\n",
        "vis_params = {'min': -1, 'max': 1,'palette': ['006633', 'E5FFCC', '662A00', 'D8D8D8', 'F5F5F5']}\n",
        "trueColor_palette = {'bands': ['B4', 'B3', 'B2'], 'min': 0, 'max': 3000};\n",
        "# Create a folium map object.\n",
        "my_map = folium.Map(location=[lat, long], zoom_start=15)\n",
        "\n",
        "# Add the elevation model to the map object.\n",
        "my_map.add_ee_layer(ndvi, vis_params, 'DEM')\n",
        "my_map.add_ee_layer(image, trueColor_palette, 'true color')\n",
        "my_map.add_ee_layer(collectionVH, {'min': -15, 'max': 0,'palette': ['blue', 'green', 'yellow', 'orange',  'red']}, 'VV')\n",
        "# my_map.add_ee_layer(point,{'color': 'black'},'Geometry [black]: point')\n",
        "\n",
        "# Add a layer control panel to the map.\n",
        "my_map.add_child(folium.LayerControl())\n",
        "\n",
        "# Display the map.\n",
        "display(my_map)"
      ],
      "execution_count": null,
      "outputs": [
        {
          "data": {
            "text/html": [
              "<div style=\"width:100%;\"><div style=\"position:relative;width:100%;height:0;padding-bottom:60%;\"><span style=\"color:#565656\">Make this Notebook Trusted to load map: File -> Trust Notebook</span><iframe src=\"about:blank\" style=\"position:absolute;width:100%;height:100%;left:0;top:0;border:none !important;\" data-html=%3C%21DOCTYPE%20html%3E%0A%3Chead%3E%20%20%20%20%0A%20%20%20%20%3Cmeta%20http-equiv%3D%22content-type%22%20content%3D%22text/html%3B%20charset%3DUTF-8%22%20/%3E%0A%20%20%20%20%0A%20%20%20%20%20%20%20%20%3Cscript%3E%0A%20%20%20%20%20%20%20%20%20%20%20%20L_NO_TOUCH%20%3D%20false%3B%0A%20%20%20%20%20%20%20%20%20%20%20%20L_DISABLE_3D%20%3D%20false%3B%0A%20%20%20%20%20%20%20%20%3C/script%3E%0A%20%20%20%20%0A%20%20%20%20%3Cstyle%3Ehtml%2C%20body%20%7Bwidth%3A%20100%25%3Bheight%3A%20100%25%3Bmargin%3A%200%3Bpadding%3A%200%3B%7D%3C/style%3E%0A%20%20%20%20%3Cstyle%3E%23map%20%7Bposition%3Aabsolute%3Btop%3A0%3Bbottom%3A0%3Bright%3A0%3Bleft%3A0%3B%7D%3C/style%3E%0A%20%20%20%20%3Cscript%20src%3D%22https%3A//cdn.jsdelivr.net/npm/leaflet%401.6.0/dist/leaflet.js%22%3E%3C/script%3E%0A%20%20%20%20%3Cscript%20src%3D%22https%3A//code.jquery.com/jquery-1.12.4.min.js%22%3E%3C/script%3E%0A%20%20%20%20%3Cscript%20src%3D%22https%3A//maxcdn.bootstrapcdn.com/bootstrap/3.2.0/js/bootstrap.min.js%22%3E%3C/script%3E%0A%20%20%20%20%3Cscript%20src%3D%22https%3A//cdnjs.cloudflare.com/ajax/libs/Leaflet.awesome-markers/2.0.2/leaflet.awesome-markers.js%22%3E%3C/script%3E%0A%20%20%20%20%3Clink%20rel%3D%22stylesheet%22%20href%3D%22https%3A//cdn.jsdelivr.net/npm/leaflet%401.6.0/dist/leaflet.css%22/%3E%0A%20%20%20%20%3Clink%20rel%3D%22stylesheet%22%20href%3D%22https%3A//maxcdn.bootstrapcdn.com/bootstrap/3.2.0/css/bootstrap.min.css%22/%3E%0A%20%20%20%20%3Clink%20rel%3D%22stylesheet%22%20href%3D%22https%3A//maxcdn.bootstrapcdn.com/bootstrap/3.2.0/css/bootstrap-theme.min.css%22/%3E%0A%20%20%20%20%3Clink%20rel%3D%22stylesheet%22%20href%3D%22https%3A//maxcdn.bootstrapcdn.com/font-awesome/4.6.3/css/font-awesome.min.css%22/%3E%0A%20%20%20%20%3Clink%20rel%3D%22stylesheet%22%20href%3D%22https%3A//cdnjs.cloudflare.com/ajax/libs/Leaflet.awesome-markers/2.0.2/leaflet.awesome-markers.css%22/%3E%0A%20%20%20%20%3Clink%20rel%3D%22stylesheet%22%20href%3D%22https%3A//cdn.jsdelivr.net/gh/python-visualization/folium/folium/templates/leaflet.awesome.rotate.min.css%22/%3E%0A%20%20%20%20%0A%20%20%20%20%20%20%20%20%20%20%20%20%3Cmeta%20name%3D%22viewport%22%20content%3D%22width%3Ddevice-width%2C%0A%20%20%20%20%20%20%20%20%20%20%20%20%20%20%20%20initial-scale%3D1.0%2C%20maximum-scale%3D1.0%2C%20user-scalable%3Dno%22%20/%3E%0A%20%20%20%20%20%20%20%20%20%20%20%20%3Cstyle%3E%0A%20%20%20%20%20%20%20%20%20%20%20%20%20%20%20%20%23map_2a7e6455b2b14d0b84af2d46523d3144%20%7B%0A%20%20%20%20%20%20%20%20%20%20%20%20%20%20%20%20%20%20%20%20position%3A%20relative%3B%0A%20%20%20%20%20%20%20%20%20%20%20%20%20%20%20%20%20%20%20%20width%3A%20100.0%25%3B%0A%20%20%20%20%20%20%20%20%20%20%20%20%20%20%20%20%20%20%20%20height%3A%20100.0%25%3B%0A%20%20%20%20%20%20%20%20%20%20%20%20%20%20%20%20%20%20%20%20left%3A%200.0%25%3B%0A%20%20%20%20%20%20%20%20%20%20%20%20%20%20%20%20%20%20%20%20top%3A%200.0%25%3B%0A%20%20%20%20%20%20%20%20%20%20%20%20%20%20%20%20%7D%0A%20%20%20%20%20%20%20%20%20%20%20%20%3C/style%3E%0A%20%20%20%20%20%20%20%20%0A%3C/head%3E%0A%3Cbody%3E%20%20%20%20%0A%20%20%20%20%0A%20%20%20%20%20%20%20%20%20%20%20%20%3Cdiv%20class%3D%22folium-map%22%20id%3D%22map_2a7e6455b2b14d0b84af2d46523d3144%22%20%3E%3C/div%3E%0A%20%20%20%20%20%20%20%20%0A%3C/body%3E%0A%3Cscript%3E%20%20%20%20%0A%20%20%20%20%0A%20%20%20%20%20%20%20%20%20%20%20%20var%20map_2a7e6455b2b14d0b84af2d46523d3144%20%3D%20L.map%28%0A%20%20%20%20%20%20%20%20%20%20%20%20%20%20%20%20%22map_2a7e6455b2b14d0b84af2d46523d3144%22%2C%0A%20%20%20%20%20%20%20%20%20%20%20%20%20%20%20%20%7B%0A%20%20%20%20%20%20%20%20%20%20%20%20%20%20%20%20%20%20%20%20center%3A%20%5B42.39319216%2C%20-85.38230309%5D%2C%0A%20%20%20%20%20%20%20%20%20%20%20%20%20%20%20%20%20%20%20%20crs%3A%20L.CRS.EPSG3857%2C%0A%20%20%20%20%20%20%20%20%20%20%20%20%20%20%20%20%20%20%20%20zoom%3A%2015%2C%0A%20%20%20%20%20%20%20%20%20%20%20%20%20%20%20%20%20%20%20%20zoomControl%3A%20true%2C%0A%20%20%20%20%20%20%20%20%20%20%20%20%20%20%20%20%20%20%20%20preferCanvas%3A%20false%2C%0A%20%20%20%20%20%20%20%20%20%20%20%20%20%20%20%20%7D%0A%20%20%20%20%20%20%20%20%20%20%20%20%29%3B%0A%0A%20%20%20%20%20%20%20%20%20%20%20%20%0A%0A%20%20%20%20%20%20%20%20%0A%20%20%20%20%0A%20%20%20%20%20%20%20%20%20%20%20%20var%20tile_layer_7043f7ce259845ecabd2cd0d689f702a%20%3D%20L.tileLayer%28%0A%20%20%20%20%20%20%20%20%20%20%20%20%20%20%20%20%22https%3A//%7Bs%7D.tile.openstreetmap.org/%7Bz%7D/%7Bx%7D/%7By%7D.png%22%2C%0A%20%20%20%20%20%20%20%20%20%20%20%20%20%20%20%20%7B%22attribution%22%3A%20%22Data%20by%20%5Cu0026copy%3B%20%5Cu003ca%20href%3D%5C%22http%3A//openstreetmap.org%5C%22%5Cu003eOpenStreetMap%5Cu003c/a%5Cu003e%2C%20under%20%5Cu003ca%20href%3D%5C%22http%3A//www.openstreetmap.org/copyright%5C%22%5Cu003eODbL%5Cu003c/a%5Cu003e.%22%2C%20%22detectRetina%22%3A%20false%2C%20%22maxNativeZoom%22%3A%2018%2C%20%22maxZoom%22%3A%2018%2C%20%22minZoom%22%3A%200%2C%20%22noWrap%22%3A%20false%2C%20%22opacity%22%3A%201%2C%20%22subdomains%22%3A%20%22abc%22%2C%20%22tms%22%3A%20false%7D%0A%20%20%20%20%20%20%20%20%20%20%20%20%29.addTo%28map_2a7e6455b2b14d0b84af2d46523d3144%29%3B%0A%20%20%20%20%20%20%20%20%0A%20%20%20%20%0A%20%20%20%20%20%20%20%20%20%20%20%20var%20tile_layer_e58c765389b6428ba49be985b9d33ce8%20%3D%20L.tileLayer%28%0A%20%20%20%20%20%20%20%20%20%20%20%20%20%20%20%20%22https%3A//earthengine.googleapis.com/v1alpha/projects/earthengine-legacy/maps/54276d3a61e9ba9b4f3364531caa126f-bdc6629a295e849e493724a7ef22992c/tiles/%7Bz%7D/%7Bx%7D/%7By%7D%22%2C%0A%20%20%20%20%20%20%20%20%20%20%20%20%20%20%20%20%7B%22attribution%22%3A%20%22Map%20Data%20%5Cu0026copy%3B%20%5Cu003ca%20href%3D%5C%22https%3A//earthengine.google.com/%5C%22%5Cu003eGoogle%20Earth%20Engine%5Cu003c/a%5Cu003e%22%2C%20%22detectRetina%22%3A%20false%2C%20%22maxNativeZoom%22%3A%2018%2C%20%22maxZoom%22%3A%2018%2C%20%22minZoom%22%3A%200%2C%20%22noWrap%22%3A%20false%2C%20%22opacity%22%3A%201%2C%20%22subdomains%22%3A%20%22abc%22%2C%20%22tms%22%3A%20false%7D%0A%20%20%20%20%20%20%20%20%20%20%20%20%29.addTo%28map_2a7e6455b2b14d0b84af2d46523d3144%29%3B%0A%20%20%20%20%20%20%20%20%0A%20%20%20%20%0A%20%20%20%20%20%20%20%20%20%20%20%20var%20tile_layer_adf8089e15ad4e2ea95ffc05be40b19d%20%3D%20L.tileLayer%28%0A%20%20%20%20%20%20%20%20%20%20%20%20%20%20%20%20%22https%3A//earthengine.googleapis.com/v1alpha/projects/earthengine-legacy/maps/774e376f256305d344b9c574e3135210-eb5bb50f3d6e9559bbd8b6e3de407b74/tiles/%7Bz%7D/%7Bx%7D/%7By%7D%22%2C%0A%20%20%20%20%20%20%20%20%20%20%20%20%20%20%20%20%7B%22attribution%22%3A%20%22Map%20Data%20%5Cu0026copy%3B%20%5Cu003ca%20href%3D%5C%22https%3A//earthengine.google.com/%5C%22%5Cu003eGoogle%20Earth%20Engine%5Cu003c/a%5Cu003e%22%2C%20%22detectRetina%22%3A%20false%2C%20%22maxNativeZoom%22%3A%2018%2C%20%22maxZoom%22%3A%2018%2C%20%22minZoom%22%3A%200%2C%20%22noWrap%22%3A%20false%2C%20%22opacity%22%3A%201%2C%20%22subdomains%22%3A%20%22abc%22%2C%20%22tms%22%3A%20false%7D%0A%20%20%20%20%20%20%20%20%20%20%20%20%29.addTo%28map_2a7e6455b2b14d0b84af2d46523d3144%29%3B%0A%20%20%20%20%20%20%20%20%0A%20%20%20%20%0A%20%20%20%20%20%20%20%20%20%20%20%20var%20tile_layer_33fd31c459864cb1b81da099d3f16009%20%3D%20L.tileLayer%28%0A%20%20%20%20%20%20%20%20%20%20%20%20%20%20%20%20%22https%3A//earthengine.googleapis.com/v1alpha/projects/earthengine-legacy/maps/11ff904321e22f6b0e46fec1722ed7b0-f65004bf4d0991a8fbb245622e5cd034/tiles/%7Bz%7D/%7Bx%7D/%7By%7D%22%2C%0A%20%20%20%20%20%20%20%20%20%20%20%20%20%20%20%20%7B%22attribution%22%3A%20%22Map%20Data%20%5Cu0026copy%3B%20%5Cu003ca%20href%3D%5C%22https%3A//earthengine.google.com/%5C%22%5Cu003eGoogle%20Earth%20Engine%5Cu003c/a%5Cu003e%22%2C%20%22detectRetina%22%3A%20false%2C%20%22maxNativeZoom%22%3A%2018%2C%20%22maxZoom%22%3A%2018%2C%20%22minZoom%22%3A%200%2C%20%22noWrap%22%3A%20false%2C%20%22opacity%22%3A%201%2C%20%22subdomains%22%3A%20%22abc%22%2C%20%22tms%22%3A%20false%7D%0A%20%20%20%20%20%20%20%20%20%20%20%20%29.addTo%28map_2a7e6455b2b14d0b84af2d46523d3144%29%3B%0A%20%20%20%20%20%20%20%20%0A%20%20%20%20%0A%20%20%20%20%20%20%20%20%20%20%20%20var%20layer_control_5599bca44e0746b1b1930c865ade1fee%20%3D%20%7B%0A%20%20%20%20%20%20%20%20%20%20%20%20%20%20%20%20base_layers%20%3A%20%7B%0A%20%20%20%20%20%20%20%20%20%20%20%20%20%20%20%20%20%20%20%20%22openstreetmap%22%20%3A%20tile_layer_7043f7ce259845ecabd2cd0d689f702a%2C%0A%20%20%20%20%20%20%20%20%20%20%20%20%20%20%20%20%7D%2C%0A%20%20%20%20%20%20%20%20%20%20%20%20%20%20%20%20overlays%20%3A%20%20%7B%0A%20%20%20%20%20%20%20%20%20%20%20%20%20%20%20%20%20%20%20%20%22DEM%22%20%3A%20tile_layer_e58c765389b6428ba49be985b9d33ce8%2C%0A%20%20%20%20%20%20%20%20%20%20%20%20%20%20%20%20%20%20%20%20%22true%20color%22%20%3A%20tile_layer_adf8089e15ad4e2ea95ffc05be40b19d%2C%0A%20%20%20%20%20%20%20%20%20%20%20%20%20%20%20%20%20%20%20%20%22VV%22%20%3A%20tile_layer_33fd31c459864cb1b81da099d3f16009%2C%0A%20%20%20%20%20%20%20%20%20%20%20%20%20%20%20%20%7D%2C%0A%20%20%20%20%20%20%20%20%20%20%20%20%7D%3B%0A%20%20%20%20%20%20%20%20%20%20%20%20L.control.layers%28%0A%20%20%20%20%20%20%20%20%20%20%20%20%20%20%20%20layer_control_5599bca44e0746b1b1930c865ade1fee.base_layers%2C%0A%20%20%20%20%20%20%20%20%20%20%20%20%20%20%20%20layer_control_5599bca44e0746b1b1930c865ade1fee.overlays%2C%0A%20%20%20%20%20%20%20%20%20%20%20%20%20%20%20%20%7B%22autoZIndex%22%3A%20true%2C%20%22collapsed%22%3A%20true%2C%20%22position%22%3A%20%22topright%22%7D%0A%20%20%20%20%20%20%20%20%20%20%20%20%29.addTo%28map_2a7e6455b2b14d0b84af2d46523d3144%29%3B%0A%20%20%20%20%20%20%20%20%0A%3C/script%3E onload=\"this.contentDocument.open();this.contentDocument.write(    decodeURIComponent(this.getAttribute('data-html')));this.contentDocument.close();\" allowfullscreen webkitallowfullscreen mozallowfullscreen></iframe></div></div>"
            ],
            "text/plain": [
              "<folium.folium.Map at 0x7f75d289cf50>"
            ]
          },
          "metadata": {},
          "output_type": "display_data"
        }
      ]
    }
  ]
}